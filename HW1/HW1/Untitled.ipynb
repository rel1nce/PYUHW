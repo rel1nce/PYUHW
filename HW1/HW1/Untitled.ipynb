{
 "cells": [
  {
   "cell_type": "markdown",
   "id": "35085bfe",
   "metadata": {},
   "source": [
    "# 1.3"
   ]
  },
  {
   "cell_type": "code",
   "execution_count": null,
   "id": "4ed95600",
   "metadata": {},
   "outputs": [],
   "source": [
    "x = 5 >= 2\n",
    "A = {1, 3, 7, 8}\n",
    "B = {2, 4, 5, 10, 'apple'}\n",
    "C = A & B\n",
    "df = 'Антонова Антонина'\n",
    "Z = 'type'\n",
    "D = [1, 'title', 2, 'content']\n",
    "\n",
    "print(x, '|', type(x), '\\n', A, '|', type(A), '\\n', B, '|', type(B), '\\n',\n",
    "      C, '|', type(C), '\\n', df, '|', type(df), '\\n', Z, '|', type(Z), '\\n',\n",
    "      D, '|', type(D), '\\n')"
   ]
  },
  {
   "cell_type": "markdown",
   "id": "9bda39be",
   "metadata": {},
   "source": [
    "# 2.3"
   ]
  },
  {
   "cell_type": "code",
   "execution_count": null,
   "id": "d53e0546",
   "metadata": {},
   "outputs": [],
   "source": [
    "userX = int(input(\"Enter X: \"))\n",
    "if(userX < -5):\n",
    "    print(\"X < -5\")\n",
    "elif(userX >= -5 and userX <= 5 ):\n",
    "    print(\"X >= -5 and X <= 5\")\n",
    "else:\n",
    "    print(\"X > 5\")"
   ]
  },
  {
   "cell_type": "markdown",
   "id": "ee22e064",
   "metadata": {},
   "source": [
    "# 3.3.1"
   ]
  },
  {
   "cell_type": "code",
   "execution_count": null,
   "id": "d246ef45",
   "metadata": {},
   "outputs": [],
   "source": [
    "x = 10\n",
    "while x >= 1:\n",
    "    print(x)\n",
    "    x -= 3"
   ]
  },
  {
   "cell_type": "markdown",
   "id": "5e31d6f5",
   "metadata": {},
   "source": [
    "# 3.3.2"
   ]
  },
  {
   "cell_type": "code",
   "execution_count": null,
   "id": "0a733e4d",
   "metadata": {},
   "outputs": [],
   "source": [
    "humanCharacteristics = {\"Высота\", \"Ширина\", \"Вес\", \"Цвет волос\", \"Цвет кожи\"}\n",
    "for characteristic in humanCharacteristics:\n",
    "    print(characteristic)"
   ]
  },
  {
   "cell_type": "markdown",
   "id": "a22653e9",
   "metadata": {},
   "source": [
    "# 3.3.3"
   ]
  },
  {
   "cell_type": "code",
   "execution_count": null,
   "id": "a14cb8ca",
   "metadata": {},
   "outputs": [],
   "source": [
    "number = []\n",
    "for x in range(2, 16):\n",
    "    number.append(x)\n",
    "print(number)"
   ]
  },
  {
   "cell_type": "markdown",
   "id": "73d0e244",
   "metadata": {},
   "source": [
    "# 3.3.4"
   ]
  },
  {
   "cell_type": "code",
   "execution_count": null,
   "id": "3c452533",
   "metadata": {},
   "outputs": [],
   "source": [
    "for ind in range(105, 4, -25):\n",
    "    print(ind)"
   ]
  },
  {
   "cell_type": "markdown",
   "id": "cdccf9ec",
   "metadata": {},
   "source": [
    "# 3.3.5"
   ]
  },
  {
   "cell_type": "code",
   "execution_count": null,
   "id": "6eab08de",
   "metadata": {},
   "outputs": [],
   "source": [
    "x = []\n",
    "jnd = -2\n",
    "for ind in range(0, 10):\n",
    "    x.append(ind)\n",
    "for ind in range(0, 6):\n",
    "    if(ind % 2 == 0):\n",
    "        temp = x[ind]\n",
    "        x[ind] = x[jnd]\n",
    "        x[jnd] = temp\n",
    "        jnd -= 2\n",
    "print(x)"
   ]
  },
  {
   "cell_type": "markdown",
   "id": "7d0bce67",
   "metadata": {},
   "source": [
    "# 4.3.1"
   ]
  },
  {
   "cell_type": "code",
   "execution_count": 1,
   "id": "8afae452",
   "metadata": {},
   "outputs": [
    {
     "name": "stdout",
     "output_type": "stream",
     "text": [
      "0.5005638021428042 0.5316730500244701 <matplotlib.collections.PathCollection object at 0x000002096CE21280>\n"
     ]
    },
    {
     "data": {
      "image/png": "[encoded data removed]",
      "text/plain": [
       "<Figure size 432x288 with 1 Axes>"
      ]
     },
     "metadata": {
      "needs_background": "light"
     },
     "output_type": "display_data"
    }
   ],
   "source": [
    "from matplotlib import pyplot as plt\n",
    "import numpy as np\n",
    "import random as rand\n",
    "\n",
    "data = []\n",
    "for ind in range(0, 10): \n",
    "    data.append(rand.random())\n",
    "ind = np.arange(0, 10, 1)\n",
    "plt.grid()\n",
    "print(np.mean(data), np.median(data), plt.scatter(ind, data))"
   ]
  },
  {
   "cell_type": "markdown",
   "id": "8f27a191",
   "metadata": {},
   "source": [
    "# 4.3.2"
   ]
  },
  {
   "cell_type": "code",
   "execution_count": 8,
   "id": "561f01b1",
   "metadata": {},
   "outputs": [
    {
     "name": "stdout",
     "output_type": "stream",
     "text": [
      "172.3397794944831\n"
     ]
    },
    {
     "data": {
      "image/png": "[encoded data removed]",
      "text/plain": [
       "<Figure size 432x288 with 1 Axes>"
      ]
     },
     "metadata": {
      "needs_background": "light"
     },
     "output_type": "display_data"
    },
    {
     "name": "stdout",
     "output_type": "stream",
     "text": [
      "<matplotlib.collections.PathCollection object at 0x000002096D0975B0>\n"
     ]
    },
    {
     "data": {
      "image/png": "[encoded data removed]",
      "text/plain": [
       "<Figure size 432x288 with 1 Axes>"
      ]
     },
     "metadata": {
      "needs_background": "light"
     },
     "output_type": "display_data"
    }
   ],
   "source": [
    "import numpy as np\n",
    "import matplotlib.pyplot as plt\n",
    "from numpy import trapz\n",
    "\n",
    "x = np.arange(0, 10, 1)\n",
    "y = (np.sqrt(1 + np.exp(np.sqrt(x))) + (np.cos(x)**2))/np.abs(1 - np.sin(x)**3)\n",
    "\n",
    "plt.grid()\n",
    "plt.plot(x, y, c = \"b\")\n",
    "\n",
    "area = trapz(y)\n",
    "print(area)\n",
    "plt.show()\n",
    "plt.grid()\n",
    "\n",
    "d = np.arange(0, 5, 1)\n",
    "data = y[0:5:1]\n",
    "print(plt.scatter(d, data))"
   ]
  },
  {
   "cell_type": "markdown",
   "id": "533b0bac",
   "metadata": {},
   "source": [
    "# 4.3.3"
   ]
  },
  {
   "cell_type": "code",
   "execution_count": 10,
   "id": "38e50f5b",
   "metadata": {},
   "outputs": [
    {
     "name": "stdout",
     "output_type": "stream",
     "text": [
      "172.3397794944831\n"
     ]
    },
    {
     "data": {
      "image/png": "[encoded data removed]",
      "text/plain": [
       "<Figure size 432x288 with 1 Axes>"
      ]
     },
     "metadata": {
      "needs_background": "light"
     },
     "output_type": "display_data"
    }
   ],
   "source": [
    "import numpy as np\n",
    "import matplotlib.pyplot as plt\n",
    "from numpy import trapz\n",
    "\n",
    "x = np.arange(0, 10, 1)\n",
    "data = abs(np.cos(x * np.exp(np.cos(x) + np.log(x + 1))))\n",
    "\n",
    "plt.grid()\n",
    "plt.plot(x, data, c = \"r\")\n",
    "plt.fill_between(x, data)\n",
    "\n",
    "area = trapz(y)\n",
    "print(area)"
   ]
  },
  {
   "cell_type": "markdown",
   "id": "3318c027",
   "metadata": {},
   "source": [
    "# 4.3.4"
   ]
  },
  {
   "cell_type": "code",
   "execution_count": 11,
   "id": "99ee6976",
   "metadata": {},
   "outputs": [
    {
     "data": {
      "text/plain": [
       "<matplotlib.legend.Legend at 0x2096d13c580>"
      ]
     },
     "execution_count": 11,
     "metadata": {},
     "output_type": "execute_result"
    },
    {
     "data": {
      "image/png": "[encoded data removed]",
      "text/plain": [
       "<Figure size 432x288 with 1 Axes>"
      ]
     },
     "metadata": {
      "needs_background": "light"
     },
     "output_type": "display_data"
    }
   ],
   "source": [
    "import matplotlib.pyplot as plt\n",
    "from numpy import trapz\n",
    "import numpy as np\n",
    "\n",
    "x = np.arange(0, 320, 40)\n",
    "apple = [167, 148, 141, 152, 146, 136, 125, 132]\n",
    "google = [144, 148, 133, 145, 135, 124, 121, 120]\n",
    "microsoft = [335, 331, 282, 302, 286, 269, 251, 253]\n",
    "\n",
    "plt.grid()\n",
    "plt.plot(x, apple, c = \"r\", label = \"apple\")\n",
    "plt.plot(x, google, c = \"b\", label = \"google\")\n",
    "plt.plot(x, microsoft, c = \"y\", label = \"microsoft\")\n",
    "plt.legend()"
   ]
  },
  {
   "cell_type": "markdown",
   "id": "7ca042b2",
   "metadata": {},
   "source": [
    "# 4.3.5"
   ]
  },
  {
   "cell_type": "code",
   "execution_count": 20,
   "id": "4c62c11b",
   "metadata": {},
   "outputs": [
    {
     "name": "stdout",
     "output_type": "stream",
     "text": [
      "Please enter first value:10\n",
      "Enter '+','-','*','/':*\n",
      "Enter second value: 10\n",
      "100\n",
      "485165195.4097903 0.9129452507276277 0.408082061813392 10000000000\n"
     ]
    }
   ],
   "source": [
    "import numpy as np\n",
    "\n",
    "value1 = int(input(\"Please enter first value:\"))\n",
    "userChoose = input(\"Enter '+','-','*','/':\")\n",
    "value2 = int(input (\"Enter second value: \"))\n",
    "\n",
    "if(userChoose == \"+\"):\n",
    "    print(value1 + value2)\n",
    "if(userChoose == \"-\"):\n",
    "    print(value1 - value2)\n",
    "if(userChoose == \"*\"): \n",
    "    print(value1 * value2)\n",
    "if(userChoose == \"/\"): \n",
    "    print(value1 / value2)\n",
    "\n",
    "print(np.exp(value1 + value2), np.sin(value1 + value2), np.cos(value1 + value2), pow(value1, value2))"
   ]
  },
  {
   "cell_type": "code",
   "execution_count": null,
   "id": "883365fe",
   "metadata": {},
   "outputs": [],
   "source": []
  }
 ],
 "metadata": {
  "kernelspec": {
   "display_name": "Python 3 (ipykernel)",
   "language": "python",
   "name": "python3"
  },
  "language_info": {
   "codemirror_mode": {
    "name": "ipython",
    "version": 3
   },
   "file_extension": ".py",
   "mimetype": "text/x-python",
   "name": "python",
   "nbconvert_exporter": "python",
   "pygments_lexer": "ipython3",
   "version": "3.9.12"
  }
 },
 "nbformat": 4,
 "nbformat_minor": 5
}
