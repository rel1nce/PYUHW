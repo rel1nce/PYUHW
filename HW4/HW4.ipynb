{
  "nbformat": 4,
  "nbformat_minor": 0,
  "metadata": {
    "colab": {
      "provenance": []
    },
    "kernelspec": {
      "name": "python3",
      "display_name": "Python 3"
    },
    "language_info": {
      "name": "python"
    }
  },
  "cells": [
    {
      "cell_type": "markdown",
      "source": [
        "# Task 1"
      ],
      "metadata": {
        "id": "V646EliRTjxO"
      }
    },
    {
      "cell_type": "code",
      "execution_count": null,
      "metadata": {
        "colab": {
          "base_uri": "https://localhost:8080/",
          "height": 334
        },
        "id": "dML40LOBTgov",
        "outputId": "ef43d2eb-c34f-4c4e-ad0f-74e0927eac79"
      },
      "outputs": [
        {
          "output_type": "stream",
          "name": "stdout",
          "text": [
            "[-5.68459755 -3.49909045 -3.17223776 -1.87582197 -0.23400297 -0.95170434\n",
            "  0.01470069  2.64737772  3.30233969  4.52522654  5.22235756]\n",
            "[24.92557635 16.60160296  9.46726031  3.43655987  0.71395109 -0.12044944\n",
            "  0.69551347  4.39414077  9.26860595 15.69239102 24.01328535]\n"
          ]
        },
        {
          "output_type": "display_data",
          "data": {
            "text/plain": [
              "<Figure size 432x288 with 1 Axes>"
            ],
            "image/png": "[encoded data removed]"
          },
          "metadata": {
            "needs_background": "light"
          }
        }
      ],
      "source": [
        "import numpy as np\n",
        "import matplotlib.pyplot as plt\n",
        "from numpy import * \n",
        "from numpy.random import *\n",
        "\n",
        "DELTA = 2\n",
        "x = linspace(-5, 5, 11)\n",
        "y = x**2 + DELTA * (rand(11) - 0.5)\n",
        "\n",
        "x += DELTA * (rand(11) - 0.5)\n",
        "\n",
        "x.tofile('x_data.txt', '\\n')\n",
        "y.tofile('y_data.txt', '\\n')\n",
        "\n",
        "x = fromfile('x_data.txt', float, sep = '\\n')\n",
        "y = fromfile('y_data.txt', float, sep = '\\n')\n",
        "\n",
        "print(x)\n",
        "print(y)\n",
        "\n",
        "m = vstack((x**2, x, ones(11))).T\n",
        "s = np.linalg.lstsq(m, y, rcond = None)[0]\n",
        "\n",
        "x_prec = linspace(-5, 5, 101)\n",
        "plt.plot(x, y, 'D')\n",
        "plt.plot(x_prec, s[0] * x_prec**2 + s[1] * x_prec + s[2], '-', lw = 2)\n",
        "plt.grid()\n",
        "plt.savefig('Парабола.png')"
      ]
    },
    {
      "cell_type": "code",
      "source": [],
      "metadata": {
        "id": "fi9rdEW2dpm3"
      },
      "execution_count": null,
      "outputs": []
    }
  ]
}