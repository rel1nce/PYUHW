{
 "cells": [
  {
   "attachments": {},
   "cell_type": "markdown",
   "metadata": {},
   "source": [
    "# Task 1"
   ]
  },
  {
   "cell_type": "code",
   "execution_count": null,
   "metadata": {},
   "outputs": [],
   "source": [
    "import numpy as np\n",
    "\n",
    "def sigmoid(x):\n",
    "    return 1 / (1 + np.exp(-x))\n",
    "\n",
    "class Neuron:\n",
    "    def __init__(self, weights, bias):\n",
    "        self.weights = weights\n",
    "        self.bias = bias\n",
    "    \n",
    "    def feedforward(self, inputs):\n",
    "        total = np.dot(self.weights, inputs) + self.bias\n",
    "        return sigmoid(total)\n",
    "\n",
    "\n",
    "class NeuralNetworkOne:\n",
    "    def __init__(self):\n",
    "        weights = np.array([0.5, 0.5, 0.5])\n",
    "        self.h1 = self.h2 = self.h3 = self.out = Neuron(weights, 0)\n",
    "\n",
    "    def feedforward(self, x):\n",
    "        hOut = np.array([h.feedforward(x) for h in [self.h1, self.h2, self.h3]])\n",
    "        oOut = self.o1.feedforward(hOut)\n",
    "        return oOut\n",
    "\n",
    "class NeuralNetwork2:\n",
    "    def __init__(self):\n",
    "        weights = np.array([1, 0])\n",
    "        self.h1 = self.h2 = self.o1 = self.out = Neuron(weights, 1)\n",
    "\n",
    "    def feedforward(self, x):\n",
    "        hOut = np.array([h.feedforward(x) for h in [self.h1, self.h2]])\n",
    "        oOut = np.array([h.feedforward(hOut) for h in [self.o1, self.out]])\n",
    "        return oOut"
   ]
  }
 ],
 "metadata": {
  "language_info": {
   "name": "python"
  },
  "orig_nbformat": 4
 },
 "nbformat": 4,
 "nbformat_minor": 2
}
