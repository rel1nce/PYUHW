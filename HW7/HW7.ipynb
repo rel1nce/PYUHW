{
 "cells": [
  {
   "attachments": {},
   "cell_type": "markdown",
   "metadata": {},
   "source": [
    "# Task 1"
   ]
  },
  {
   "cell_type": "code",
   "execution_count": null,
   "metadata": {},
   "outputs": [],
   "source": [
    "import numpy as np\n",
    "\n",
    "def sigmoid(x):\n",
    "    return 1 / (1 + np.exp(-x))\n",
    "\n",
    "class Neuron:\n",
    "    def __init__(self, weights, bias):\n",
    "        self.weights = weights\n",
    "        self.bias = bias\n",
    "    \n",
    "    def feedforward(self, inputs):\n",
    "        total = np.dot(self.weights, inputs) + self.bias\n",
    "        return sigmoid(total)\n",
    "\n",
    "\n",
    "class NeuralNetworkOne:\n",
    "    def __init__(self):\n",
    "        weights = np.array([0.5, 0.5, 0.5])\n",
    "        self.h1 = self.h2 = self.h3 = self.out = Neuron(weights, 0)\n",
    "\n",
    "    def feedforward(self, x):\n",
    "        hOut = np.array([h.feedforward(x) for h in [self.h1, self.h2, self.h3]])\n",
    "        oOut = self.o1.feedforward(hOut)\n",
    "        return oOut\n",
    "\n",
    "class NeuralNetwork2:\n",
    "    def __init__(self):\n",
    "        weights = np.array([1, 0])\n",
    "        self.h1 = self.h2 = self.o1 = self.out = Neuron(weights, 1)\n",
    "\n",
    "    def feedforward(self, x):\n",
    "        hOut = np.array([h.feedforward(x) for h in [self.h1, self.h2]])\n",
    "        oOut = np.array([h.feedforward(hOut) for h in [self.o1, self.out]])\n",
    "        return oOut"
   ]
  },
  {
   "attachments": {},
   "cell_type": "markdown",
   "metadata": {},
   "source": [
    "# Task 2"
   ]
  },
  {
   "cell_type": "code",
   "execution_count": 19,
   "metadata": {},
   "outputs": [
    {
     "name": "stdout",
     "output_type": "stream",
     "text": [
      "0.7496202290400686\n",
      "0.8152177266419572\n",
      "1.5\n"
     ]
    }
   ],
   "source": [
    "import numpy as np\n",
    "\n",
    "def sigmoid1(x):\n",
    "    return 1 / (1 + np.exp(-x))\n",
    "def sigmoid2(x):\n",
    "    return np.tanh(x)\n",
    "def sigmoid3(x):\n",
    "    return max(0, x)\n",
    "\n",
    "class Neuron:\n",
    "    def __init__(self, weights, bias):\n",
    "        self.weights = weights\n",
    "        self.bias = bias\n",
    "    \n",
    "    def feedforward(self, inputs, choiceOfSig = 1):\n",
    "        total = np.dot(self.weights, inputs) + self.bias\n",
    "        if (choiceOfSig == 1):\n",
    "            return sigmoid1(total)\n",
    "        elif(choiceOfSig == 2):\n",
    "            return sigmoid2(total)\n",
    "        elif(choiceOfSig == 3):\n",
    "            return sigmoid3(total)\n",
    "\n",
    "\n",
    "class NeuralNetwork:\n",
    "    def __init__(self):\n",
    "        weights = np.array([0.5, 0.5, 0.5])\n",
    "        self.h1 = self.h2 = self.h3 = self.out = Neuron(weights, 0)\n",
    "\n",
    "    def feedforward(self, x, choiceOfSig = 1):\n",
    "        hOut = np.array([h.feedforward(x, choiceOfSig) for h in [self.h1, self.h2, self.h3]])\n",
    "        oOut = self.out.feedforward(hOut, choiceOfSig)\n",
    "        return oOut\n",
    "\n",
    "\n",
    "network = NeuralNetwork()\n",
    "\n",
    "input = [1, 0, 1]\n",
    "print(network.feedforward(input, 1))\n",
    "print(network.feedforward(input, 2))\n",
    "print(network.feedforward(input, 3))"
   ]
  },
  {
   "attachments": {},
   "cell_type": "markdown",
   "metadata": {},
   "source": [
    "# Task 3"
   ]
  },
  {
   "cell_type": "code",
   "execution_count": 21,
   "metadata": {},
   "outputs": [
    {
     "name": "stdout",
     "output_type": "stream",
     "text": [
      "Test accuracy: 0.933\n",
      "Training accuracy: 0.992\n",
      "Loss: 0.062378386935669564\n",
      "Number of Coefs: 2\n",
      "Number of Intercepts: 2\n",
      "Number of Iterations for Which Estimator Ran: 641\n",
      "Name of Output Layer Activation Function: softmax\n"
     ]
    },
    {
     "data": {
      "image/png": "[encoded data removed]",
      "text/plain": [
       "<Figure size 480x480 with 2 Axes>"
      ]
     },
     "metadata": {},
     "output_type": "display_data"
    },
    {
     "name": "stdout",
     "output_type": "stream",
     "text": [
      "Train/Test Sizes:  (24, 1) (6, 1) (24,) (6,)\n",
      "Test R^2 Score: 0.971\n",
      "Training R^2 Score: 0.948\n",
      "Loss: 16873681.68996009\n",
      "Number of Coefs: 2\n",
      "Number of Intercepts: 2\n",
      "Number of Iterations for Which Estimator Ran: 30344\n",
      "Name of Output Layer Activation Function: identity\n"
     ]
    }
   ],
   "source": [
    "import matplotlib.pyplot as plt\n",
    "import pandas as pd\n",
    "from sklearn.metrics import confusion_matrix\n",
    "from sklearn.model_selection import train_test_split\n",
    "from sklearn.neural_network import MLPClassifier, MLPRegressor\n",
    "\n",
    "\n",
    "def plot_confusion_matrix(y_test, y_pred):\n",
    "    confusionM = confusion_matrix(y_test, y_pred)\n",
    "    size = range(len(confusionM))\n",
    "\n",
    "    plt.matshow(confusionM, cmap=plt.cm.Blues, fignum=1)\n",
    "    plt.yticks(size, size)\n",
    "    plt.xticks(size, size)\n",
    "    plt.colorbar()\n",
    "\n",
    "    for ind in size:\n",
    "        for jnd in size:\n",
    "            plt.text(ind - 0.2, jnd + 0.1, str(confusionM[jnd, ind]), color='tab:red')\n",
    "            \n",
    "    plt.show()\n",
    "\n",
    "\n",
    "def classification():\n",
    "    iris = pd.read_csv(\n",
    "        'https://gist.githubusercontent.com/netj/8836201/raw/6f9306ad21398ea43cba4f7d537619d0e07d5ae3/iris.csv')\n",
    "    x_iris, y_iris = iris.iloc[:, :-1], iris.iloc[:, -1]\n",
    "    x_train, x_test, y_train, y_test = train_test_split(x_iris, y_iris, train_size=0.8, test_size=0.2, stratify=y_iris,\n",
    "                                                        random_state=123)\n",
    "\n",
    "    mlp_classifier = MLPClassifier(random_state=123, max_iter=1000)\n",
    "    mlp_classifier.fit(x_train, y_train)\n",
    "\n",
    "    print('Test accuracy: %.3f' % mlp_classifier.score(x_test, y_test))\n",
    "    print('Training accuracy: %.3f' % mlp_classifier.score(x_train, y_train))\n",
    "    print(\"Loss:\", mlp_classifier.loss_)\n",
    "    print(\"Number of Coefs:\", len(mlp_classifier.coefs_))\n",
    "    print(\"Number of Intercepts:\", len(mlp_classifier.intercepts_))\n",
    "    print(\"Number of Iterations for Which Estimator Ran:\", mlp_classifier.n_iter_)\n",
    "    print(\"Name of Output Layer Activation Function:\", mlp_classifier.out_activation_)\n",
    "\n",
    "    plot_confusion_matrix(y_test, mlp_classifier.predict(x_test))\n",
    "\n",
    "\n",
    "def regression():\n",
    "    salary = pd.read_csv(\n",
    "        'https://raw.githubusercontent.com/AnnaShestova/salary-years-simple-linear-regression/master/Salary_Data.csv')\n",
    "    x_salary, y_salary = salary.iloc[:, :-1], salary.iloc[:, -1]\n",
    "    x_train, x_test, y_train, y_test = train_test_split(x_salary, y_salary, train_size=0.8, test_size=0.2,\n",
    "                                                        random_state=123)\n",
    "    print('Train/Test Sizes: ', x_train.shape, x_test.shape, y_train.shape, y_test.shape)\n",
    "\n",
    "    mlp_regressor = MLPRegressor(random_state=123, max_iter=50000)\n",
    "    mlp_regressor.fit(x_train, y_train)\n",
    "\n",
    "    print('Test R^2 Score: %.3f' % mlp_regressor.score(x_test, y_test))\n",
    "    print('Training R^2 Score: %.3f' % mlp_regressor.score(x_train, y_train))\n",
    "    print(\"Loss:\", mlp_regressor.loss_)\n",
    "    print(\"Number of Coefs:\", len(mlp_regressor.coefs_))\n",
    "    print(\"Number of Intercepts:\", len(mlp_regressor.intercepts_))\n",
    "    print(\"Number of Iterations for Which Estimator Ran:\", mlp_regressor.n_iter_)\n",
    "    print(\"Name of Output Layer Activation Function:\", mlp_regressor.out_activation_)\n",
    "\n",
    "\n",
    "classification()\n",
    "regression()"
   ]
  }
 ],
 "metadata": {
  "kernelspec": {
   "display_name": "Python 3",
   "language": "python",
   "name": "python3"
  },
  "language_info": {
   "codemirror_mode": {
    "name": "ipython",
    "version": 3
   },
   "file_extension": ".py",
   "mimetype": "text/x-python",
   "name": "python",
   "nbconvert_exporter": "python",
   "pygments_lexer": "ipython3",
   "version": "3.10.4"
  },
  "orig_nbformat": 4,
  "vscode": {
   "interpreter": {
    "hash": "3ad933181bd8a04b432d3370b9dc3b0662ad032c4dfaa4e4f1596c548f763858"
   }
  }
 },
 "nbformat": 4,
 "nbformat_minor": 2
}
